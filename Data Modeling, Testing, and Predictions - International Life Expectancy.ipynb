{
 "cells": [
  {
   "cell_type": "markdown",
   "metadata": {},
   "source": [
    "# Global Life Expectancy Predictions Based on International Metrics\n",
    "## Data Modeling, Testing, and Predictions\n",
    "\n",
    "\n",
    "  \n",
    "June 23, 2023 | Seamus Walsh and Daniel Gieseke\n",
    "\n",
    "\n",
    "Life expectancies vary over countries globally.  With this project we are aiming to create a model that will predict a country's life expectancy at birth based on a variety of factors.  Not only is this project focused on building a strong predictive model, this project further aims to look into which country features prove to be the most important when considering life expectancy at birth.  This data was sourced from The World Bank and the United Nations via Kaggle.\n",
    "\n",
    "This notebook explores the modeling, testing, and precictions from our data and models.\n",
    "\n",
    "Data Source: https://www.kaggle.com/datasets/truecue/worldsustainabilitydataset?select=WorldSustainabilityDataset.csv"
   ]
  },
  {
   "cell_type": "markdown",
   "metadata": {},
   "source": [
    "### Importing our Libraries and Data"
   ]
  },
  {
   "cell_type": "code",
   "execution_count": 49,
   "metadata": {},
   "outputs": [],
   "source": [
    "import pandas as pd\n",
    "import numpy as np\n",
    "import seaborn as sns\n",
    "sns.set_style(\"darkgrid\")\n",
    "import matplotlib.pyplot as plt\n",
    "from sklearn.model_selection import train_test_split\n",
    "from sklearn.linear_model import LogisticRegression\n",
    "from sklearn.metrics import accuracy_score, confusion_matrix\n",
    "from sklearn.pipeline import Pipeline\n",
    "from sklearn.preprocessing import StandardScaler\n",
    "from sklearn.ensemble import RandomForestClassifier\n",
    "from sklearn.model_selection import GridSearchCV\n",
    "from sklearn.preprocessing import MinMaxScaler\n",
    "from sklearn.tree import plot_tree\n",
    "import warnings\n",
    "warnings.filterwarnings(\"ignore\")"
   ]
  },
  {
   "cell_type": "code",
   "execution_count": 50,
   "metadata": {},
   "outputs": [],
   "source": [
    "df = pd.read_csv('data/cleaned_international_data.csv')"
   ]
  },
  {
   "cell_type": "markdown",
   "metadata": {},
   "source": [
    "### Creating our First Model - Logistic Regression\n",
    "Below we are taking our first attempt at modeling our data.  We first split our data into a train-test split, then feed our data into a pipeline which standardizes our data then fits it to a logistic regression.  Finally, we explore the accuracy score of our model."
   ]
  },
  {
   "cell_type": "code",
   "execution_count": 62,
   "metadata": {},
   "outputs": [],
   "source": [
    "y = df['High_Life_Expectancy']\n",
    "X = df[['GDP_per_capita',  'Access_to_electricity', \n",
    "        'Renewable energy consumption (% of total final energy consumption) - EG.FEC.RNEW.ZS', 'Urban_population_percent', 'Year', 'Africa', 'Asia', 'Europe', 'North America', \n",
    "        'South America', 'High income', 'Low income', 'Lower-middle income', 'Upper-middle income', 'Closed Autocracy', \n",
    "        'Electoral Autocracy', 'Electoral Democracy', 'Liberal Democracy', 'Eastern and South-Eastern Asia', \n",
    "        'Europe and Northern America', 'Latin America and Caribbean', 'Northern Africa and Western Asia', \n",
    "        'Sub-Saharan Africa', 'Women Business and the Law Index Score', 'Trade (% of GDP) - NE.TRD.GNFS.ZS']]"
   ]
  },
  {
   "cell_type": "code",
   "execution_count": 63,
   "metadata": {},
   "outputs": [],
   "source": [
    "X_train, X_test, y_train, y_test = train_test_split(X, y, test_size=.3, random_state=42)"
   ]
  },
  {
   "cell_type": "code",
   "execution_count": 64,
   "metadata": {},
   "outputs": [],
   "source": [
    "# Build a pipeline with StandardScaler and Logistic Regression\n",
    "scaled_pipeline_1 = Pipeline([('scaler', StandardScaler()), ('logreg', LogisticRegression(random_state = 42))])"
   ]
  },
  {
   "cell_type": "code",
   "execution_count": 65,
   "metadata": {},
   "outputs": [
    {
     "name": "stdout",
     "output_type": "stream",
     "text": [
      "Accuracy Score of Training Data: 0.9203491543917076\n",
      "Accuracy Score of Test Data: 0.9147582697201018\n"
     ]
    }
   ],
   "source": [
    "# Fit the training data to pipeline\n",
    "scaled_pipeline_1.fit(X_train, y_train)\n",
    "\n",
    "# Print the accuracy on training and test sets\n",
    "print(\"Accuracy Score of Training Data:\", scaled_pipeline_1.score(X_train, y_train))\n",
    "print(\"Accuracy Score of Test Data:\", scaled_pipeline_1.score(X_test, y_test))"
   ]
  },
  {
   "cell_type": "markdown",
   "metadata": {},
   "source": [
    "**Summary of Our First Model**\n",
    "\n",
    "Above we see an accuracy score of 92% on our training data, and 92% on our test data.  These scores are both fairly high.  Additionally, since the accuracy score for the test data is not far off from our training data, we can say that our model did not 'overfit' to our training data.  While these scores are fairly high, we are going to create additional models to see if we can improve this score."
   ]
  },
  {
   "cell_type": "markdown",
   "metadata": {},
   "source": [
    "   "
   ]
  },
  {
   "cell_type": "markdown",
   "metadata": {},
   "source": [
    "### Creating our Second Model - Random Forest Classifier\n",
    "For our second model, we turn to a Random Forest Classifier in lieu of a logistic regression.  Below we create a pipeline with a standard scaler as well as a Random Forest Classifier and feed in our X and y values we split above.  Lastly, we explore the accuracy scores of the test and training sets."
   ]
  },
  {
   "cell_type": "code",
   "execution_count": 66,
   "metadata": {},
   "outputs": [],
   "source": [
    "# Build a pipeline with StandardScaler and RandomForestClassifier\n",
    "scaled_pipeline_2 = Pipeline([('scaler', StandardScaler()), ('RF', RandomForestClassifier(random_state = 42))])"
   ]
  },
  {
   "cell_type": "code",
   "execution_count": 67,
   "metadata": {},
   "outputs": [
    {
     "name": "stdout",
     "output_type": "stream",
     "text": [
      "Accuracy Score of Training Data: 1.0\n",
      "Accuracy Score of Test Data: 0.9796437659033079\n"
     ]
    }
   ],
   "source": [
    "# Fit the training data to pipeline\n",
    "scaled_pipeline_2.fit(X_train, y_train)\n",
    "\n",
    "# Print the accuracy on test set\n",
    "print(\"Accuracy Score of Training Data:\", scaled_pipeline_2.score(X_train, y_train))\n",
    "print(\"Accuracy Score of Test Data:\", scaled_pipeline_2.score(X_test, y_test))"
   ]
  },
  {
   "cell_type": "markdown",
   "metadata": {},
   "source": [
    "**Summary of Our Second Model**\n",
    "\n",
    "Above we see an accuracy score of 100% on our training data, and 98% on our test data.  These scores are both very high.  Additionally, since the accuracy score for the test data is not far off from our training data, we can say that our model did not 'overfit' to our training data.  We are opting to continue to tune our hyperparameters to see if we can improve the accuracy score on our test data."
   ]
  },
  {
   "cell_type": "markdown",
   "metadata": {},
   "source": [
    "  "
   ]
  },
  {
   "cell_type": "markdown",
   "metadata": {},
   "source": [
    "### Creating and Tuning our Final Model with GridSearch\n",
    "As mentioned above, we are continuing to tune our model we created above with GridSearch.  Below we create a grid with hyperparameters to tune to, then feed in our estimator defined above into a GridSearch."
   ]
  },
  {
   "cell_type": "code",
   "execution_count": 68,
   "metadata": {},
   "outputs": [],
   "source": [
    "# Define the grid\n",
    "grid = [{'RF__max_depth': [2, 14, 15, 16, 17, 18], \n",
    "         'RF__min_samples_split': [2, 3], \n",
    "         'RF__min_samples_leaf': [1, 3, 5]}]"
   ]
  },
  {
   "cell_type": "code",
   "execution_count": 69,
   "metadata": {},
   "outputs": [],
   "source": [
    "# Define a grid search\n",
    "gridsearch = GridSearchCV(estimator = scaled_pipeline_2, param_grid = grid, scoring = 'accuracy', cv = 5)"
   ]
  },
  {
   "cell_type": "code",
   "execution_count": 70,
   "metadata": {},
   "outputs": [
    {
     "name": "stdout",
     "output_type": "stream",
     "text": [
      "{'RF__max_depth': 14, 'RF__min_samples_leaf': 1, 'RF__min_samples_split': 2}\n"
     ]
    }
   ],
   "source": [
    "# Fit the training data\n",
    "gridsearch.fit(X_train, y_train)\n",
    "\n",
    "# Printing the Best Parameters for our Model\n",
    "best_params = gridsearch.best_params_\n",
    "print(best_params)"
   ]
  },
  {
   "cell_type": "code",
   "execution_count": 71,
   "metadata": {},
   "outputs": [
    {
     "name": "stdout",
     "output_type": "stream",
     "text": [
      "Accuracy Score of Training Data: 1.0\n",
      "Accuracy Score of Test Data: 0.9796437659033079\n"
     ]
    }
   ],
   "source": [
    "# Print the accuracy on training and test sets\n",
    "print(\"Accuracy Score of Training Data:\", gridsearch.score(X_train, y_train))\n",
    "print(\"Accuracy Score of Test Data:\", gridsearch.score(X_test, y_test))"
   ]
  },
  {
   "cell_type": "markdown",
   "metadata": {},
   "source": [
    "**Summary of Our Final Model**\n",
    "\n",
    "Above we see an accuracy score of 100% on our training data, and 98% on our test data.  It looks as though our scores are not improving here, and we are happy with our scores so this model and the respective hyper parameters will remain."
   ]
  },
  {
   "cell_type": "markdown",
   "metadata": {},
   "source": [
    "   "
   ]
  },
  {
   "cell_type": "markdown",
   "metadata": {},
   "source": [
    "### Visualizing a Confusion Matrix of our Final Model\n",
    "Below we create a visualization of the test predictions from our final model showing the false positives and false negatives created."
   ]
  },
  {
   "cell_type": "code",
   "execution_count": 72,
   "metadata": {},
   "outputs": [],
   "source": [
    "# Creating Predictions\n",
    "y_pred = scaled_pipeline_2.predict(X_test)\n",
    "\n",
    "# Creating the Confusion Matrix\n",
    "cm = confusion_matrix(y_test, y_pred)"
   ]
  },
  {
   "cell_type": "code",
   "execution_count": 73,
   "metadata": {},
   "outputs": [
    {
     "data": {
      "image/png": "[encoded data removed]",
      "text/plain": [
       "<Figure size 720x576 with 2 Axes>"
      ]
     },
     "metadata": {},
     "output_type": "display_data"
    }
   ],
   "source": [
    "# Creating a Heatmap of the Confusion Matrix\n",
    "plt.figure(figsize=(10,8))\n",
    "sns.heatmap(cm, annot=True, fmt='d', cmap='Blues')\n",
    "\n",
    "# Set labels, title, and ticks\n",
    "plt.xlabel('Predicted')\n",
    "plt.ylabel('True')\n",
    "plt.title('Confusion Matrix')\n",
    "plt.show()"
   ]
  },
  {
   "cell_type": "markdown",
   "metadata": {},
   "source": [
    "   "
   ]
  },
  {
   "cell_type": "markdown",
   "metadata": {},
   "source": [
    "### Exploring Feature Importance in Our Final Model\n",
    "Below we are exploring and printing the features in our model as well as their respective importance in our model.  "
   ]
  },
  {
   "cell_type": "code",
   "execution_count": 74,
   "metadata": {},
   "outputs": [
    {
     "data": {
      "text/plain": [
       "[('GDP_per_capita', 0.15115601632698647),\n",
       " ('Access_to_electricity', 0.23077386816973286),\n",
       " ('Renewable energy consumption (% of total final energy consumption) - EG.FEC.RNEW.ZS',\n",
       "  0.08616920054235279),\n",
       " ('Urban_population_percent', 0.11668006007108395),\n",
       " ('Year', 0.02270393897079828),\n",
       " ('Africa', 0.06569131685914008),\n",
       " ('Asia', 0.005045588188765676),\n",
       " ('Europe', 0.008248526254569991),\n",
       " ('North America', 0.008572946253640952),\n",
       " ('South America', 0.003149960727269281),\n",
       " ('High income', 0.02175925887521325),\n",
       " ('Low income', 0.05113568358098643),\n",
       " ('Lower-middle income', 0.011759116867642444),\n",
       " ('Upper-middle income', 0.004257639264289195),\n",
       " ('Closed Autocracy', 0.005367898433303869),\n",
       " ('Electoral Autocracy', 0.014969846513358608),\n",
       " ('Electoral Democracy', 0.004675512991025148),\n",
       " ('Liberal Democracy', 0.004002311445782348),\n",
       " ('Eastern and South-Eastern Asia', 0.004671853856438474),\n",
       " ('Europe and Northern America', 0.007041602848365849),\n",
       " ('Latin America and Caribbean', 0.009050681940206766),\n",
       " ('Northern Africa and Western Asia', 0.005037202701236593),\n",
       " ('Sub-Saharan Africa', 0.08495683679671567),\n",
       " ('Women Business and the Law Index Score', 0.04708823630109069),\n",
       " ('Trade (% of GDP) - NE.TRD.GNFS.ZS', 0.026034895220004222)]"
      ]
     },
     "execution_count": 74,
     "metadata": {},
     "output_type": "execute_result"
    }
   ],
   "source": [
    "# Finding Feature Importance from Our Model\n",
    "importances = scaled_pipeline_2.named_steps['RF'].feature_importances_\n",
    "\n",
    "# Creating List of Tuples with Feature Names and Importances\n",
    "feature_importances = [(feature, importance) for feature, importance in zip(X.columns, importances)]\n",
    "feature_importances"
   ]
  },
  {
   "cell_type": "markdown",
   "metadata": {},
   "source": [
    "**Summary of Feature Importance Analysis**\n",
    "\n",
    "Above we see a few features which hold most importance in our model: 'GDP per Capita', 'Access to Electricity', and 'Urban Population'.  Based off of this, we can say that we see a correlation with life expectancies above 70 years old, and  GPD per Capita, access to electricity, and the percentage of population living in an urban environment."
   ]
  },
  {
   "cell_type": "code",
   "execution_count": null,
   "metadata": {},
   "outputs": [],
   "source": []
  }
 ],
 "metadata": {
  "kernelspec": {
   "display_name": "Python (learn-env)",
   "language": "python",
   "name": "learn-env"
  },
  "language_info": {
   "codemirror_mode": {
    "name": "ipython",
    "version": 3
   },
   "file_extension": ".py",
   "mimetype": "text/x-python",
   "name": "python",
   "nbconvert_exporter": "python",
   "pygments_lexer": "ipython3",
   "version": "3.8.5"
  }
 },
 "nbformat": 4,
 "nbformat_minor": 4
}
