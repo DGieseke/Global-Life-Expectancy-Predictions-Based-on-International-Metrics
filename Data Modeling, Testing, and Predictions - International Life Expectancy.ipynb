{
 "cells": [
  {
   "cell_type": "markdown",
   "metadata": {},
   "source": [
    "# Global Life Expectancy Predictions Based on International Metrics\n",
    "## Data Modeling, Testing, and Predictions\n",
    "\n",
    "\n",
    "  \n",
    "June 23, 2023 | Seamus Walsh and Daniel Gieseke\n",
    "\n",
    "\n",
    "Life expectancies vary over countries globally.  With this project we are aiming to create a model that will predict a country's life expectancy at birth based on a variety of factors.  Not only is this project focused on building a strong predictive model, this project further aims to look into which country features prove to be the most important when considering life expectancy at birth.  This data was sourced from The World Bank and the United Nations via Kaggle.\n",
    "\n",
    "This notebook explores the modeling, testing, and precictions from our data and models.\n",
    "\n",
    "Data Source: https://www.kaggle.com/datasets/truecue/worldsustainabilitydataset?select=WorldSustainabilityDataset.csv"
   ]
  },
  {
   "cell_type": "markdown",
   "metadata": {},
   "source": [
    "### Importing our Libraries and Data"
   ]
  },
  {
   "cell_type": "code",
   "execution_count": 1,
   "metadata": {},
   "outputs": [],
   "source": [
    "import pandas as pd\n",
    "import numpy as np\n",
    "import seaborn as sns\n",
    "sns.set_style(\"darkgrid\")\n",
    "import matplotlib.pyplot as plt\n",
    "from sklearn.model_selection import train_test_split\n",
    "from sklearn.linear_model import LogisticRegression\n",
    "from sklearn.metrics import accuracy_score, confusion_matrix\n",
    "from sklearn.pipeline import Pipeline\n",
    "from sklearn.preprocessing import StandardScaler\n",
    "from sklearn.ensemble import RandomForestClassifier\n",
    "from sklearn.model_selection import GridSearchCV\n",
    "from sklearn.preprocessing import MinMaxScaler\n",
    "from sklearn.tree import plot_tree\n",
    "import warnings\n",
    "warnings.filterwarnings(\"ignore\")"
   ]
  },
  {
   "cell_type": "code",
   "execution_count": 2,
   "metadata": {},
   "outputs": [],
   "source": [
    "df = pd.read_csv('data/cleaned_international_data.csv')"
   ]
  },
  {
   "cell_type": "markdown",
   "metadata": {},
   "source": [
    "### Creating our First Model - Logistic Regression\n",
    "Below we are taking our first attempt at modeling our data.  We first split our data into a train-test split, then feed our data into a pipeline which standardizes our data then fits it to a logistic regression.  Finally, we explore the accuracy score of our model."
   ]
  },
  {
   "cell_type": "code",
   "execution_count": 3,
   "metadata": {},
   "outputs": [],
   "source": [
    "y = df['High_Life_Expectancy']\n",
    "X = df[['GDP per capita (current US$) - NY.GDP.PCAP.CD',  'Access to electricity (% of population) - EG.ELC.ACCS.ZS',\n",
    "       'Adjusted savings: particulate emission damage (% of GNI) - NY.ADJ.DPEM.GN.ZS', \n",
    "        'Adjusted savings: carbon dioxide damage (% of GNI) - NY.ADJ.DCO2.GN.ZS', \n",
    "        'Urban population (% of total population) - SP.URB.TOTL.IN.ZS', 'Year',\n",
    "       'Rural population (% of total population) - SP.RUR.TOTL.ZS', 'Africa', 'Asia', 'Europe', 'North America', \n",
    "        'South America', 'High income', 'Low income', 'Lower-middle income', 'Upper-middle income', 'Closed Autocracy', \n",
    "        'Electoral Autocracy', 'Electoral Democracy', 'Liberal Democracy', 'Eastern and South-Eastern Asia', \n",
    "        'Europe and Northern America', 'Latin America and Caribbean', 'Northern Africa and Western Asia', \n",
    "        'Sub-Saharan Africa']]"
   ]
  },
  {
   "cell_type": "code",
   "execution_count": 4,
   "metadata": {},
   "outputs": [],
   "source": [
    "X_train, X_test, y_train, y_test = train_test_split(X, y, test_size=.3, random_state=42)"
   ]
  },
  {
   "cell_type": "code",
   "execution_count": 5,
   "metadata": {},
   "outputs": [],
   "source": [
    "# Build a pipeline with StandardScaler and Logistic Regression\n",
    "scaled_pipeline_1 = Pipeline([('scaler', StandardScaler()), ('logreg', LogisticRegression(random_state = 42))])"
   ]
  },
  {
   "cell_type": "code",
   "execution_count": 6,
   "metadata": {},
   "outputs": [
    {
     "name": "stdout",
     "output_type": "stream",
     "text": [
      "Accuracy Score of Training Data: 0.9286783042394015\n",
      "Accuracy Score of Test Data: 0.9255813953488372\n"
     ]
    }
   ],
   "source": [
    "# Fit the training data to pipeline\n",
    "scaled_pipeline_1.fit(X_train, y_train)\n",
    "\n",
    "# Print the accuracy on training and test sets\n",
    "print(\"Accuracy Score of Training Data:\", scaled_pipeline_1.score(X_train, y_train))\n",
    "print(\"Accuracy Score of Test Data:\", scaled_pipeline_1.score(X_test, y_test))"
   ]
  },
  {
   "cell_type": "markdown",
   "metadata": {},
   "source": [
    "**Summary of Our First Model**\n",
    "\n",
    "Above we see an accuracy score of 92.9% on our training data, and 92.5% on our test data.  These scores are both fairly high.  Additionally, since the accuracy score for the test data is not far off from our training data, we can say that our model did not 'overfit' to our training data.  While these scores are fairly high, we are going to create additional models to see if we can improve this score."
   ]
  },
  {
   "cell_type": "markdown",
   "metadata": {},
   "source": [
    "   "
   ]
  },
  {
   "cell_type": "markdown",
   "metadata": {},
   "source": [
    "### Creating our Second Model - Random Forest Classifier\n",
    "For our second model, we turn to a Random Forest Classifier in lieu of a logistic regression.  Below we create a pipeline with a standard scaler as well as a Random Forest Classifier and feed in our X and y values we split above.  Lastly, we explore the accuracy scores of the test and training sets."
   ]
  },
  {
   "cell_type": "code",
   "execution_count": 7,
   "metadata": {},
   "outputs": [],
   "source": [
    "# Build a pipeline with StandardScaler and RandomForestClassifier\n",
    "scaled_pipeline_2 = Pipeline([('scaler', StandardScaler()), ('RF', RandomForestClassifier(random_state = 42))])"
   ]
  },
  {
   "cell_type": "code",
   "execution_count": 8,
   "metadata": {},
   "outputs": [
    {
     "name": "stdout",
     "output_type": "stream",
     "text": [
      "Accuracy Score of Training Data: 1.0\n",
      "Accuracy Score of Test Data: 0.9813953488372092\n"
     ]
    }
   ],
   "source": [
    "# Fit the training data to pipeline\n",
    "scaled_pipeline_2.fit(X_train, y_train)\n",
    "\n",
    "# Print the accuracy on test set\n",
    "print(\"Accuracy Score of Training Data:\", scaled_pipeline_2.score(X_train, y_train))\n",
    "print(\"Accuracy Score of Test Data:\", scaled_pipeline_2.score(X_test, y_test))"
   ]
  },
  {
   "cell_type": "markdown",
   "metadata": {},
   "source": [
    "**Summary of Our Second Model**\n",
    "\n",
    "Above we see an accuracy score of 100% on our training data, and 98% on our test data.  These scores are both very high.  Additionally, since the accuracy score for the test data is not far off from our training data, we can say that our model did not 'overfit' to our training data.  We are opting to continue to tune our hyperparameters to see if we can improve the accuracy score on our test data."
   ]
  },
  {
   "cell_type": "markdown",
   "metadata": {},
   "source": [
    "  "
   ]
  },
  {
   "cell_type": "markdown",
   "metadata": {},
   "source": [
    "### Creating and Tuning our Final Model with GridSearch\n",
    "As mentioned above, we are continuing to tune our model we created above with GridSearch.  Below we create a grid with hyperparameters to tune to, then feed in our estimator defined above into a GridSearch."
   ]
  },
  {
   "cell_type": "code",
   "execution_count": 9,
   "metadata": {},
   "outputs": [],
   "source": [
    "# Define the grid\n",
    "grid = [{'RF__max_depth': [2, 14, 15, 16, 17, 18], \n",
    "         'RF__min_samples_split': [2, 3], \n",
    "         'RF__min_samples_leaf': [1, 3, 5]}]"
   ]
  },
  {
   "cell_type": "code",
   "execution_count": 10,
   "metadata": {},
   "outputs": [],
   "source": [
    "# Define a grid search\n",
    "gridsearch = GridSearchCV(estimator = scaled_pipeline_2, param_grid = grid, scoring = 'accuracy', cv = 5)"
   ]
  },
  {
   "cell_type": "code",
   "execution_count": 11,
   "metadata": {},
   "outputs": [
    {
     "name": "stdout",
     "output_type": "stream",
     "text": [
      "{'RF__max_depth': 17, 'RF__min_samples_leaf': 1, 'RF__min_samples_split': 2}\n"
     ]
    }
   ],
   "source": [
    "# Fit the training data\n",
    "gridsearch.fit(X_train, y_train)\n",
    "\n",
    "# Printing the Best Parameters for our Model\n",
    "best_params = gridsearch.best_params_\n",
    "print(best_params)"
   ]
  },
  {
   "cell_type": "code",
   "execution_count": 12,
   "metadata": {},
   "outputs": [
    {
     "name": "stdout",
     "output_type": "stream",
     "text": [
      "Accuracy Score of Training Data: 1.0\n",
      "Accuracy Score of Test Data: 0.9802325581395349\n"
     ]
    }
   ],
   "source": [
    "# Print the accuracy on training and test sets\n",
    "print(\"Accuracy Score of Training Data:\", gridsearch.score(X_train, y_train))\n",
    "print(\"Accuracy Score of Test Data:\", gridsearch.score(X_test, y_test))"
   ]
  },
  {
   "cell_type": "markdown",
   "metadata": {},
   "source": [
    "**Summary of Our Final Model**\n",
    "\n",
    "Above we see an accuracy score of 100% on our training data, and 98% on our test data.  It looks as though our scores are not improving here, and we are happy with our scores so this model and the respective hyper parameters will remain."
   ]
  },
  {
   "cell_type": "markdown",
   "metadata": {},
   "source": [
    "   "
   ]
  },
  {
   "cell_type": "markdown",
   "metadata": {},
   "source": [
    "### Visualizing a Confusion Matrix of our Final Model\n",
    "Below we create a visualization of the test predictions from our final model showing the false positives and false negatives created."
   ]
  },
  {
   "cell_type": "code",
   "execution_count": 13,
   "metadata": {},
   "outputs": [],
   "source": [
    "# Creating Predictions\n",
    "y_pred = scaled_pipeline_2.predict(X_test)\n",
    "\n",
    "# Creating the Confusion Matrix\n",
    "cm = confusion_matrix(y_test, y_pred)"
   ]
  },
  {
   "cell_type": "code",
   "execution_count": 14,
   "metadata": {},
   "outputs": [
    {
     "data": {
      "image/png": "[encoded data removed]",
      "text/plain": [
       "<Figure size 720x576 with 2 Axes>"
      ]
     },
     "metadata": {},
     "output_type": "display_data"
    }
   ],
   "source": [
    "# Creating a Heatmap of the Confusion Matrix\n",
    "plt.figure(figsize=(10,8))\n",
    "sns.heatmap(cm, annot=True, fmt='d', cmap='Blues')\n",
    "\n",
    "# Set labels, title, and ticks\n",
    "plt.xlabel('Predicted')\n",
    "plt.ylabel('True')\n",
    "plt.title('Confusion Matrix')\n",
    "plt.show()"
   ]
  },
  {
   "cell_type": "markdown",
   "metadata": {},
   "source": [
    "   "
   ]
  },
  {
   "cell_type": "markdown",
   "metadata": {},
   "source": [
    "### Exploring Feature Importance in Our Final Model\n",
    "Below we are exploring and printing the features in our model as well as their respective importance in our model.  "
   ]
  },
  {
   "cell_type": "code",
   "execution_count": 15,
   "metadata": {},
   "outputs": [
    {
     "data": {
      "text/plain": [
       "[('GDP per capita (current US$) - NY.GDP.PCAP.CD', 0.11660210674136592),\n",
       " ('Access to electricity (% of population) - EG.ELC.ACCS.ZS',\n",
       "  0.1638138200048514),\n",
       " ('Adjusted savings: particulate emission damage (% of GNI) - NY.ADJ.DPEM.GN.ZS',\n",
       "  0.2889245107370798),\n",
       " ('Adjusted savings: carbon dioxide damage (% of GNI) - NY.ADJ.DCO2.GN.ZS',\n",
       "  0.044188450094087235),\n",
       " ('Urban population (% of total population) - SP.URB.TOTL.IN.ZS',\n",
       "  0.05859537342060725),\n",
       " ('Year', 0.018131107283763076),\n",
       " ('Rural population (% of total population) - SP.RUR.TOTL.ZS',\n",
       "  0.061150427537522825),\n",
       " ('Africa', 0.04293273111498146),\n",
       " ('Asia', 0.0051572955965218815),\n",
       " ('Europe', 0.010839874054971605),\n",
       " ('North America', 0.00712939039599187),\n",
       " ('South America', 0.0025225158961748964),\n",
       " ('High income', 0.01740983793243999),\n",
       " ('Low income', 0.022438653083451613),\n",
       " ('Lower-middle income', 0.011898879242769299),\n",
       " ('Upper-middle income', 0.003229209817980488),\n",
       " ('Closed Autocracy', 0.0023662076161421177),\n",
       " ('Electoral Autocracy', 0.0086227548607349),\n",
       " ('Electoral Democracy', 0.004677530297443301),\n",
       " ('Liberal Democracy', 0.00526968440429047),\n",
       " ('Eastern and South-Eastern Asia', 0.003352712624313299),\n",
       " ('Europe and Northern America', 0.005236009252692664),\n",
       " ('Latin America and Caribbean', 0.005134052074579043),\n",
       " ('Northern Africa and Western Asia', 0.008482483473435807),\n",
       " ('Sub-Saharan Africa', 0.08189438244180783)]"
      ]
     },
     "execution_count": 15,
     "metadata": {},
     "output_type": "execute_result"
    }
   ],
   "source": [
    "# Finding Feature Importance from Our Model\n",
    "importances = scaled_pipeline_2.named_steps['RF'].feature_importances_\n",
    "\n",
    "# Creating List of Tuples with Feature Names and Importances\n",
    "feature_importances = [(feature, importance) for feature, importance in zip(X.columns, importances)]\n",
    "feature_importances"
   ]
  },
  {
   "cell_type": "markdown",
   "metadata": {},
   "source": [
    "**Summary of Feature Importance Analysis**\n",
    "\n",
    "Above we see a few features which hold most importance in our model: 'GDP per Capita', 'Access to Electricity', 'Particulate Emission Damage', and 'Urban Population'.  Based off of this, we can say that we see a correlation with life expectancies above 70 years old, and  GPD per Capita, access to electricity, particulate emission damage, and urban population."
   ]
  },
  {
   "cell_type": "code",
   "execution_count": null,
   "metadata": {},
   "outputs": [],
   "source": []
  }
 ],
 "metadata": {
  "kernelspec": {
   "display_name": "Python (learn-env)",
   "language": "python",
   "name": "learn-env"
  },
  "language_info": {
   "codemirror_mode": {
    "name": "ipython",
    "version": 3
   },
   "file_extension": ".py",
   "mimetype": "text/x-python",
   "name": "python",
   "nbconvert_exporter": "python",
   "pygments_lexer": "ipython3",
   "version": "3.8.5"
  }
 },
 "nbformat": 4,
 "nbformat_minor": 4
}
